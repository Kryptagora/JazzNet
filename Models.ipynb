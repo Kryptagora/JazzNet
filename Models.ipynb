{
 "cells": [
  {
   "cell_type": "markdown",
   "id": "08516d18-3428-4e31-a738-a9a96eaa1ddd",
   "metadata": {},
   "source": [
    "# Practical Work [PR] Notebook\n",
    "This notebook contains the Network Architectures and Data Evaluation Systems for the Project. The data from the dataset is already processed in the notebook `ChordExtractorWithStatistics.ipnb` and saved to `chords.data`. Also, some Statistics can be found there. If there is any concern how the data has been processed, look into the notebook - all is done there. It also uses functions from `functions/utils.py`, such that the code is more readable and not cluttured. \n",
    "\n",
    "**Brief Overview Of this Notebook:**\n",
    "\n",
    "1. **Data Preparation**: Load the data from `chords.data`, split it into training and validation sets, and create data loaders.\n",
    "2. **Model Building (GRU)**: Define the GRU-based RNN architecture.\n",
    "3. **Model Building (LSTM)**: Define the LSTM-based RNN architecture.\n",
    "4. **Results**: Look at generated Data and Discuss it."
   ]
  },
  {
   "cell_type": "markdown",
   "id": "282cdfe1-837a-480a-a20a-cb869abbd243",
   "metadata": {},
   "source": [
    "## 1. Data Preparation\n",
    "### 1.1 Load Chords from Dataset\n",
    "Load chords from file `chords.data` in a json like format."
   ]
  },
  {
   "cell_type": "code",
   "execution_count": 1,
   "id": "0dfc086b-4119-443f-8479-0939c8a8605b",
   "metadata": {},
   "outputs": [],
   "source": [
    "# all imports \n",
    "import torch.nn as nn\n",
    "import json\n",
    "import torch\n",
    "import random\n",
    "import numpy as np\n",
    "from collections import Counter\n",
    "from tqdm import tqdm\n",
    "from scipy.spatial import distance\n",
    "from scipy.spatial.distance import jensenshannon\n",
    "from torch.utils.data import DataLoader, Dataset, random_split\n",
    "from torch.nn.utils.rnn import pack_padded_sequence, pad_packed_sequence\n",
    "import torch.nn.functional as F\n",
    "import pretty_midi"
   ]
  },
  {
   "cell_type": "code",
   "execution_count": 2,
   "id": "d3fba7d6-1c25-4cd5-be12-7334f0263f83",
   "metadata": {},
   "outputs": [
    {
     "name": "stdout",
     "output_type": "stream",
     "text": [
      "[['<BOS>', 'B-:min', 'D:maj', 'G:maj', 'G:maj', 'B-:min', 'D:maj', 'G:maj', 'D:maj', 'G:maj', 'B:maj', 'B:maj', 'E:min', 'E:min', 'A:maj', 'A-:maj', 'A:maj', 'D:maj', 'D:maj', 'B-:min', 'D:maj', 'G:maj', 'G:maj', 'A-:maj', 'G:maj', 'C:min', 'C:min', 'G:maj', 'G:maj', 'B-:min', 'D:maj', 'G:maj', 'D:maj', 'G:maj', '<EOS>']]\n"
     ]
    }
   ],
   "source": [
    "def load_chords(file_path):\n",
    "    \"\"\"\n",
    "    Loads chords from a file and returns them as a 2D list.\n",
    "    \"\"\"\n",
    "    with open(file_path, \"r\") as file:\n",
    "        # Read the entire file as a string\n",
    "        data_str = file.read()\n",
    "        \n",
    "        # Convert the string representation of lists into actual lists using json.loads\n",
    "        chords_2d_list = json.loads(data_str)\n",
    "        \n",
    "    return chords_2d_list\n",
    "\n",
    "# Test the function\n",
    "all_chords = load_chords(\"chords.data\")\n",
    "print(all_chords[:1])  # Displaying the first chord sequence for verification"
   ]
  },
  {
   "cell_type": "markdown",
   "id": "7d94b1a0-e5b0-4263-9b7d-f6cc60088059",
   "metadata": {},
   "source": [
    "### 1.2 Examine the Data\n",
    "Getting used to the data we are working with."
   ]
  },
  {
   "cell_type": "code",
   "execution_count": 3,
   "id": "5b60d6b6-48ab-471b-8204-083a348f2125",
   "metadata": {},
   "outputs": [
    {
     "name": "stdout",
     "output_type": "stream",
     "text": [
      "Shape of sequnces(elements, lenght): torch.Size([1186, 196])\n",
      "Vocab size (all occuring chords + 2 tokens):  27\n",
      "Chord vocab:------\n",
      " ['<BOS>', '<EOS>', 'A-:maj', 'A-:min', 'A:maj', 'A:min', 'B-:maj', 'B-:min', 'B:maj', 'B:min', 'C:maj', 'C:min', 'D-:maj', 'D-:min', 'D:maj', 'D:min', 'E-:maj', 'E-:min', 'E:maj', 'E:min', 'F:maj', 'F:min', 'G-:maj', 'G-:min', 'G:maj', 'G:min'] \n",
      "--------------------\n",
      "Index of BOS: 1\n",
      "Index of EOS: 2\n",
      "{'<BOS>': 1, '<EOS>': 2, 'A-:maj': 3, 'A-:min': 4, 'A:maj': 5, 'A:min': 6, 'B-:maj': 7, 'B-:min': 8, 'B:maj': 9, 'B:min': 10, 'C:maj': 11, 'C:min': 12, 'D-:maj': 13, 'D-:min': 14, 'D:maj': 15, 'D:min': 16, 'E-:maj': 17, 'E-:min': 18, 'E:maj': 19, 'E:min': 20, 'F:maj': 21, 'F:min': 22, 'G-:maj': 23, 'G-:min': 24, 'G:maj': 25, 'G:min': 26, 'pad': 0}\n"
     ]
    }
   ],
   "source": [
    "from functions.utils import encode_chords\n",
    "\n",
    "chord_vocab, chord_to_idx, idx_to_chord, padded_sequences, vocab_size = encode_chords(all_chords)\n",
    "\n",
    "print(\"Shape of sequnces(elements, lenght):\", padded_sequences.shape)\n",
    "print(\"Vocab size (all occuring chords + 2 tokens): \", vocab_size)\n",
    "print(\"Chord vocab:------\\n\", chord_vocab, \"\\n--------------------\")\n",
    "\n",
    "print(\"Index of BOS:\", chord_to_idx['<BOS>'])\n",
    "print(\"Index of EOS:\", chord_to_idx['<EOS>'])\n",
    "print(chord_to_idx)"
   ]
  },
  {
   "cell_type": "markdown",
   "id": "9bfc8bb5-1906-43b6-ac06-24689a327e4a",
   "metadata": {},
   "source": [
    "### 1.3 Split Train and Validation\n",
    "Before proceeding with the model, we split our dataset into a training set and a validation set. This will help us evaluate our model's performance on unseen data. This will be archived with pytorch dataloaders. We'll convert our dataset to PyTorch tensors and then create data loaders for training and validation sets."
   ]
  },
  {
   "cell_type": "code",
   "execution_count": 4,
   "id": "2ecc5cd9-7ff5-417d-b319-526f4732b4c6",
   "metadata": {},
   "outputs": [],
   "source": [
    "# Define a custom dataset\n",
    "class ChordDataset(Dataset):\n",
    "    def __init__(self, padded_sequences):\n",
    "        self.data = padded_sequences\n",
    "\n",
    "    def __len__(self):\n",
    "        return len(self.data)\n",
    "\n",
    "    def __getitem__(self, idx):\n",
    "        sequence = self.data[idx]\n",
    "        \n",
    "        # Compute the original length of the sequence (without padding) for pack sequence\n",
    "        length = (sequence != 0).sum().item()  # Count non-zero tokens\n",
    "        \n",
    "        # Using the current token to predict the next token\n",
    "        # So, we return (sequence[:-1], sequence[1:], length - 1)\n",
    "        # We subtract 1 from the length because we're returning sequence[:-1] which has one token less\n",
    "        return sequence[:-1], sequence[1:], length - 1\n",
    "\n",
    "# Create dataset\n",
    "dataset = ChordDataset(padded_sequences)\n",
    "\n",
    "# Split the dataset into training and validation sets (80% train, 20% validation)\n",
    "train_size = int(0.7 * len(dataset))\n",
    "val_size = len(dataset) - train_size\n",
    "\n",
    "train_dataset, val_dataset = random_split(dataset, [train_size, val_size])\n",
    "\n",
    "# Create data loaders\n",
    "batch_size = 64\n",
    "train_loader = DataLoader(train_dataset, batch_size=batch_size, shuffle=True)\n",
    "val_loader = DataLoader(val_dataset, batch_size=batch_size, shuffle=False)"
   ]
  },
  {
   "cell_type": "markdown",
   "id": "97cc0c04-3582-4fb2-aeb3-0ec07a7dd14c",
   "metadata": {},
   "source": [
    "## 2. Model Architecture (GRU)\n",
    "\n",
    "Let's define our GRU-based RNN model:\n",
    "\n",
    "**Architecture**:\n",
    "- **Embedding Layer**: We use an embedding layer to convert the integer chord encodings into continuous vectors. This will allow the model to learn a dense representation of each chord.\n",
    "- **GRU Layer**: The Gated Recurrent Unit (GRU) is a type of RNN that has gating mechanisms. It's simpler than an LSTM and we will compare them later.\n",
    "- **Linear Layer**: A linear layer to map the GRU outputs to the size of our vocabulary.\n",
    "\n",
    "\n",
    "### 2.1 PyTorch Implementation\n",
    "Using PyTorch, this can be defined very easily:"
   ]
  },
  {
   "cell_type": "code",
   "execution_count": 5,
   "id": "01b4eb58-8a60-45f1-9422-408ef009e3e7",
   "metadata": {},
   "outputs": [
    {
     "data": {
      "text/plain": [
       "ChordRNN(\n",
       "  (embedding): Embedding(27, 12)\n",
       "  (gru): GRU(12, 24, num_layers=2, batch_first=True, dropout=0.2)\n",
       "  (fc): Linear(in_features=24, out_features=27, bias=True)\n",
       ")"
      ]
     },
     "execution_count": 5,
     "metadata": {},
     "output_type": "execute_result"
    }
   ],
   "source": [
    "class ChordRNN(nn.Module):\n",
    "    def __init__(self, vocab_size, embedding_dim, hidden_dim, output_dim, n_layers, dropout=0.5):\n",
    "        super(ChordRNN, self).__init__()\n",
    "        \n",
    "        # Embedding layer\n",
    "        self.embedding = nn.Embedding(vocab_size, embedding_dim)\n",
    "        \n",
    "        # GRU layer\n",
    "        self.gru = nn.GRU(embedding_dim, hidden_dim, num_layers=n_layers, dropout=dropout, batch_first=True)\n",
    "        \n",
    "        # Linear layer\n",
    "        self.fc = nn.Linear(hidden_dim, output_dim)\n",
    "    \n",
    "    def forward(self, x, lengths, hidden=None):\n",
    "        # x: (batch_size, sequence_length)\n",
    "        embedded = self.embedding(x)  # (batch_size, sequence_length, embedding_dim)\n",
    "        \n",
    "        # Pack the embedded sequences\n",
    "        packed_embedded = pack_padded_sequence(embedded, lengths, batch_first=True, enforce_sorted=False)\n",
    "        \n",
    "        # GRU output\n",
    "        packed_output, hidden = self.gru(packed_embedded, hidden)\n",
    "        \n",
    "        # Unpack the output\n",
    "        output, output_lengths = pad_packed_sequence(packed_output, batch_first=True, total_length=x.size(1)) \n",
    "        \n",
    "        # Linear layer\n",
    "        output = self.fc(output)  # (batch_size, sequence_length, output_dim)\n",
    "        \n",
    "        return output, hidden\n",
    "\n",
    "\n",
    "# Hyperparameters\n",
    "#num_epochs = 100\n",
    "#embedding_dim = 128\n",
    "#hidden_dim = 256\n",
    "#output_dim = vocab_size\n",
    "#n_layers = 5\n",
    "\n",
    "# Hyperparameters v2\n",
    "num_epochs = 100\n",
    "embedding_dim = 12\n",
    "hidden_dim = 24\n",
    "output_dim = vocab_size\n",
    "n_layers = 2\n",
    "\n",
    "\n",
    "# Initialize the model\n",
    "model = ChordRNN(vocab_size, embedding_dim, hidden_dim, output_dim, n_layers, dropout=0.2)\n",
    "model"
   ]
  },
  {
   "cell_type": "markdown",
   "id": "39bcec2c-1d0d-4019-9183-27f69ff8fc42",
   "metadata": {},
   "source": [
    "### 2.2 Train function\n",
    "This one will be used for both models. Cross entrophy will be used and the optimizer will be adam."
   ]
  },
  {
   "cell_type": "code",
   "execution_count": 6,
   "id": "a5f71236-2747-4c62-8f56-898dab91538b",
   "metadata": {},
   "outputs": [
    {
     "name": "stdout",
     "output_type": "stream",
     "text": [
      "Epoch 1/100: Train Loss: 3.0286 | Validation Loss: 2.8762\n",
      "Epoch 3/100: Train Loss: 2.5563 | Validation Loss: 2.4399\n",
      "Epoch 5/100: Train Loss: 2.1597 | Validation Loss: 2.0584\n",
      "Epoch 7/100: Train Loss: 1.8243 | Validation Loss: 1.7370\n",
      "Epoch 9/100: Train Loss: 1.5403 | Validation Loss: 1.4665\n",
      "Epoch 11/100: Train Loss: 1.3089 | Validation Loss: 1.2525\n",
      "Epoch 13/100: Train Loss: 1.1295 | Validation Loss: 1.0857\n",
      "Epoch 15/100: Train Loss: 0.9925 | Validation Loss: 0.9620\n",
      "Epoch 17/100: Train Loss: 0.8927 | Validation Loss: 0.8704\n",
      "Epoch 19/100: Train Loss: 0.8191 | Validation Loss: 0.8035\n",
      "Epoch 21/100: Train Loss: 0.7643 | Validation Loss: 0.7549\n",
      "Epoch 23/100: Train Loss: 0.7223 | Validation Loss: 0.7162\n",
      "Epoch 25/100: Train Loss: 0.6895 | Validation Loss: 0.6876\n",
      "Epoch 27/100: Train Loss: 0.6647 | Validation Loss: 0.6657\n",
      "Epoch 29/100: Train Loss: 0.6430 | Validation Loss: 0.6470\n",
      "Epoch 31/100: Train Loss: 0.6269 | Validation Loss: 0.6334\n",
      "Epoch 33/100: Train Loss: 0.6132 | Validation Loss: 0.6222\n",
      "Epoch 35/100: Train Loss: 0.6021 | Validation Loss: 0.6123\n",
      "Epoch 37/100: Train Loss: 0.5923 | Validation Loss: 0.6044\n",
      "Epoch 39/100: Train Loss: 0.5841 | Validation Loss: 0.5973\n",
      "Epoch 41/100: Train Loss: 0.5764 | Validation Loss: 0.5909\n",
      "Epoch 43/100: Train Loss: 0.5696 | Validation Loss: 0.5863\n",
      "Epoch 45/100: Train Loss: 0.5642 | Validation Loss: 0.5807\n",
      "Epoch 47/100: Train Loss: 0.5586 | Validation Loss: 0.5776\n",
      "Epoch 49/100: Train Loss: 0.5545 | Validation Loss: 0.5744\n",
      "Epoch 51/100: Train Loss: 0.5506 | Validation Loss: 0.5721\n",
      "Epoch 53/100: Train Loss: 0.5462 | Validation Loss: 0.5698\n",
      "Epoch 55/100: Train Loss: 0.5440 | Validation Loss: 0.5665\n",
      "Epoch 57/100: Train Loss: 0.5407 | Validation Loss: 0.5650\n",
      "Epoch 59/100: Train Loss: 0.5370 | Validation Loss: 0.5624\n",
      "Epoch 61/100: Train Loss: 0.5354 | Validation Loss: 0.5627\n",
      "Epoch 63/100: Train Loss: 0.5331 | Validation Loss: 0.5601\n",
      "Epoch 65/100: Train Loss: 0.5310 | Validation Loss: 0.5582\n",
      "Epoch 67/100: Train Loss: 0.5276 | Validation Loss: 0.5567\n",
      "Epoch 69/100: Train Loss: 0.5278 | Validation Loss: 0.5567\n",
      "Epoch 71/100: Train Loss: 0.5263 | Validation Loss: 0.5561\n",
      "Epoch 73/100: Train Loss: 0.5228 | Validation Loss: 0.5553\n",
      "Epoch 75/100: Train Loss: 0.5221 | Validation Loss: 0.5546\n",
      "Epoch 77/100: Train Loss: 0.5209 | Validation Loss: 0.5531\n",
      "Epoch 79/100: Train Loss: 0.5188 | Validation Loss: 0.5528\n",
      "Epoch 81/100: Train Loss: 0.5185 | Validation Loss: 0.5522\n",
      "Epoch 83/100: Train Loss: 0.5168 | Validation Loss: 0.5518\n",
      "Epoch 85/100: Train Loss: 0.5160 | Validation Loss: 0.5511\n",
      "Epoch 87/100: Train Loss: 0.5142 | Validation Loss: 0.5497\n",
      "Epoch 89/100: Train Loss: 0.5125 | Validation Loss: 0.5501\n",
      "Epoch 91/100: Train Loss: 0.5127 | Validation Loss: 0.5493\n",
      "Epoch 93/100: Train Loss: 0.5112 | Validation Loss: 0.5491\n",
      "Epoch 95/100: Train Loss: 0.5097 | Validation Loss: 0.5489\n",
      "Epoch 97/100: Train Loss: 0.5086 | Validation Loss: 0.5475\n",
      "Epoch 99/100: Train Loss: 0.5088 | Validation Loss: 0.5486\n"
     ]
    }
   ],
   "source": [
    "# Move model to GPU if available\n",
    "device = torch.device('cuda' if torch.cuda.is_available() else 'cpu')\n",
    "model = model.to(device)\n",
    "\n",
    "# Loss and optim\n",
    "criterion = nn.CrossEntropyLoss()\n",
    "optimizer = torch.optim.Adam(model.parameters(), lr=0.01)\n",
    "\n",
    "# Modified training function\n",
    "def train_model(model, train_loader, val_loader, epochs, optimizer, criterion):\n",
    "    train_losses = []\n",
    "    val_losses = []\n",
    "\n",
    "    # Training loop\n",
    "    for epoch in range(epochs):\n",
    "        # Placeholder for accumulating batch losses\n",
    "        batch_train_losses = []\n",
    "        \n",
    "        # Training\n",
    "        model.train()\n",
    "        for (input_seq, target_seq, lengths) in train_loader:\n",
    "            input_seq, target_seq, lengths = input_seq.to(device), target_seq.to(device), lengths.to(\"cpu\")\n",
    "            optimizer.zero_grad()\n",
    "\n",
    "            output, _ = model(input_seq, lengths)\n",
    "\n",
    "            # Reshape output and target_seq for loss computation\n",
    "            output_dim = output.shape[-1]\n",
    "            output = output.contiguous().view(-1, output_dim)\n",
    "            target_seq = target_seq.contiguous().view(-1)\n",
    "\n",
    "            loss = criterion(output, target_seq)\n",
    "\n",
    "            loss.backward()\n",
    "            optimizer.step()\n",
    "\n",
    "            batch_train_losses.append(loss.item())\n",
    "\n",
    "        # Calculate average training loss for the epoch\n",
    "        epoch_train_loss = sum(batch_train_losses) / len(batch_train_losses)\n",
    "        train_losses.append(epoch_train_loss)\n",
    "\n",
    "        batch_val_losses = []\n",
    "\n",
    "        # Validation\n",
    "        model.eval()\n",
    "        with torch.no_grad():\n",
    "            for (input_seq, target_seq, lengths) in val_loader:\n",
    "                input_seq, target_seq, lengths = input_seq.to(device), target_seq.to(device), lengths.to(\"cpu\")\n",
    "\n",
    "                output, _ = model(input_seq, lengths)\n",
    "\n",
    "                # Reshape output and target_seq for loss computation\n",
    "                output_dim = output.shape[-1]\n",
    "                output = output.contiguous().view(-1, output_dim)\n",
    "                target_seq = target_seq.contiguous().view(-1)\n",
    "\n",
    "                val_loss = criterion(output, target_seq)\n",
    "                batch_val_losses.append(val_loss.item())\n",
    "\n",
    "            # Calculate average validation loss for the epoch\n",
    "            epoch_val_loss = sum(batch_val_losses) / len(batch_val_losses)\n",
    "            val_losses.append(epoch_val_loss)\n",
    "\n",
    "        # Print average training and validation loss for the epoch\n",
    "        if epoch % 2 == 0:\n",
    "            print(f\"Epoch {epoch+1}/{epochs}: Train Loss: {epoch_train_loss:.4f} | Validation Loss: {epoch_val_loss:.4f}\")\n",
    "\n",
    "    return train_losses, val_losses\n",
    "\n",
    "\n",
    "# Train the GRU model\n",
    "train_losses_gru, val_losses_gru = train_model(model, train_loader, val_loader, num_epochs, optimizer, criterion)"
   ]
  },
  {
   "cell_type": "markdown",
   "id": "53665a19-43a5-414d-b059-8c11fa23d049",
   "metadata": {},
   "source": [
    "### 2.3 Evaluate\n",
    "Evaluate on the whole evaluation set."
   ]
  },
  {
   "cell_type": "code",
   "execution_count": 7,
   "id": "37bdd8c6-8e6b-47bb-be66-7dfc58832248",
   "metadata": {},
   "outputs": [
    {
     "name": "stdout",
     "output_type": "stream",
     "text": [
      "Evaluation Loss (GRU) on whole validation set:  0.548899233341217\n"
     ]
    }
   ],
   "source": [
    "def evaluate(model, iterator, criterion, device):\n",
    "    model.eval()\n",
    "    total_loss = 0\n",
    "    \n",
    "    with torch.no_grad():\n",
    "        for (input_seq, target_seq, lenghts) in iterator:\n",
    "            input_seq, target_seq, lenghts = input_seq.to(device), target_seq.to(device), lenghts.to(\"cpu\")\n",
    "            \n",
    "            output, _ = model(input_seq, lenghts)\n",
    "            output_dim = output.shape[-1]\n",
    "            output = output.contiguous().view(-1, output_dim)\n",
    "            target_seq = target_seq.contiguous().view(-1)\n",
    "            \n",
    "            loss = criterion(output, target_seq)\n",
    "            \n",
    "            total_loss += loss.item()\n",
    "\n",
    "    return total_loss / len(iterator)\n",
    "\n",
    "val_loss = evaluate(model, val_loader, criterion, device)\n",
    "print(\"Evaluation Loss (GRU) on whole validation set: \", val_loss)"
   ]
  },
  {
   "cell_type": "markdown",
   "id": "8dba550b-1c58-4c97-a3f0-7fc8cc821a09",
   "metadata": {},
   "source": [
    "### 2.5 Generate new Sequnces\n",
    "After training our model, we will now use it and generate new sequnces.\n",
    "\n",
    "**Multinomial sampling**:\n",
    "\n",
    "torch.multinomial() function samples values from a multinomial distribution. The function takes in a tensor of probabilities (probs) and an integer which indicates how many samples to draw. In the case of torch.multinomial(probs, 1), it's drawing one sample based on our probabilities.\n",
    "\n",
    "A intuitive way of understanding it:\n",
    "- Imagine you have a weighted dice, where each face of the dice has a different probability of landing face up.\n",
    "- If you  roll this dice, the face that lands up is sampled based on the weights (or probabilities) associated with each face.\n",
    "- torch.multinomial() is doing a similar thing: given a set of probabilities (weights), it's \"rolling the dice\" and returning which \"face\" (index) was chosen.\n",
    "\n",
    "This introduces randomness because, like rolling a weighted dice, you're not guaranteed to get the same outcome every time, even though some outcomes are more probable than others."
   ]
  },
  {
   "cell_type": "code",
   "execution_count": 8,
   "id": "51374f54-5cfd-425e-a915-ed0663f66e63",
   "metadata": {},
   "outputs": [
    {
     "name": "stdout",
     "output_type": "stream",
     "text": [
      "['B-:maj', 'B-:maj', 'E:maj', 'A:maj', 'D:maj', 'G:maj', 'F:maj', 'F:maj', 'F:maj', 'A:maj', 'E-:maj', 'D:maj', 'D-:maj', 'C:maj', 'F:maj', 'F:maj', 'F:maj', 'F:min', 'B-:maj', 'E-:maj', 'E-:maj', 'B-:maj', 'B-:maj', 'D:maj', 'D:maj', 'F:maj', 'G:min', 'F:maj', 'D:maj', 'G:min', 'G:min', 'F:maj', 'B-:maj']\n"
     ]
    },
    {
     "name": "stderr",
     "output_type": "stream",
     "text": [
      "100%|███████████████████████████████████████| 1000/1000 [00:48<00:00, 20.42it/s]\n"
     ]
    }
   ],
   "source": [
    "def generate_sequence(model, start_token, max_length, device, argmax:bool=False):\n",
    "    model.eval()\n",
    "    \n",
    "    generated_sequence = [start_token]\n",
    "    input_seq = torch.LongTensor([start_token]).unsqueeze(0).to(device)\n",
    "    length = torch.tensor([1]).to(\"cpu\")  # initial length is 1\n",
    "    \n",
    "    with torch.no_grad():\n",
    "        for _ in range(max_length):\n",
    "            output, _ = model(input_seq, length)\n",
    "            \n",
    "            # Take the last token's probabilities\n",
    "            probabilities = nn.functional.softmax(output[0][-1], dim=0).to(device)\n",
    "            \n",
    "            # Sample a token from the distribution\n",
    "            next_token = torch.multinomial(probabilities, 1).item()\n",
    "            \n",
    "            # xor use argmax\n",
    "            if argmax:\n",
    "                probabilities = nn.functional.softmax(output[0][-1], dim=0)\n",
    "                next_token = torch.argmax(probabilities).item()\n",
    "\n",
    "            if next_token == 2:  # Check for <EOS>\n",
    "                break\n",
    "            \n",
    "            generated_sequence.append(next_token)\n",
    "            input_seq = torch.LongTensor(generated_sequence).unsqueeze(0).to(device)\n",
    "            length = torch.tensor([len(generated_sequence)]).to(\"cpu\")  # update the length\n",
    "    \n",
    "    return generated_sequence\n",
    "\n",
    "\n",
    "def map_sequence(sequnce, ignore_tokens:bool=True):\n",
    "    str_sequnce = []\n",
    "    for s in sequnce:\n",
    "        str_sequnce.append(idx_to_chord[s])\n",
    "\n",
    "    if ignore_tokens:\n",
    "        return str_sequnce[1:-1]\n",
    "    else:\n",
    "        return str_sequnce\n",
    "\n",
    "print(map_sequence(generate_sequence(model, 1, 1000, device, argmax=False)))\n",
    "\n",
    "GRU_chords_generated = []\n",
    "for _ in tqdm(range(1000)):\n",
    "    GRU_chords_generated.append(map_sequence(generate_sequence(model, 1, 1000, device, argmax=False)))"
   ]
  },
  {
   "cell_type": "markdown",
   "id": "783113d9-63da-480e-aae0-d1552024a410",
   "metadata": {},
   "source": [
    "## 3. Model Architecture (LSTM)\n",
    "Lets now try the same thing with a LSTM. We will also measure the scores on the same validation set which comes in handy. Since measuring the performance is hard, we have now a way of quantifing the results better.\n",
    "\n",
    "### 3.1 Set up LSTM\n",
    "We will use an embedding layer to represent the integer-encoded chords as dense vectors, followed by an LSTM layer, and then a fully connected layer to produce the predictions for the next chord in the sequence.\n",
    "\n",
    "Our LSTM model consists of the following layers:\n",
    "\n",
    "- Embedding Layer: This converts our integer-encoded chords into dense vectors of fixed size. The embedding layer is beneficial as it allows the model to learn meaningful representations of the chords during training.\n",
    "- LSTM Layer: This layer contains the LSTM cells. We also have n_layers = 2, meaning our LSTM has 2 stacked layers.\n",
    "- Fully Connected Layer: The output from the LSTM layer is passed through a fully connected layer to produce predictions for the next chord in the sequence. The output size is vocab_size which is the size of our vocabulary (including padding and start end tokens\n",
    "  )."
   ]
  },
  {
   "cell_type": "code",
   "execution_count": 9,
   "id": "e59b6f59-773e-4514-a84e-0129b86a080c",
   "metadata": {},
   "outputs": [
    {
     "data": {
      "text/plain": [
       "ChordLSTM(\n",
       "  (embedding): Embedding(27, 12)\n",
       "  (lstm): LSTM(12, 24, num_layers=2, batch_first=True, dropout=0.2)\n",
       "  (fc): Linear(in_features=24, out_features=27, bias=True)\n",
       ")"
      ]
     },
     "execution_count": 9,
     "metadata": {},
     "output_type": "execute_result"
    }
   ],
   "source": [
    "class ChordLSTM(nn.Module):\n",
    "    def __init__(self, vocab_size, embedding_dim, hidden_dim, output_dim, n_layers, dropout=0.5):\n",
    "        super(ChordLSTM, self).__init__()\n",
    "        \n",
    "        # Embedding layer\n",
    "        self.embedding = nn.Embedding(vocab_size, embedding_dim)\n",
    "        \n",
    "        # GRU layer\n",
    "        self.lstm = nn.LSTM(embedding_dim, hidden_dim, num_layers=n_layers, dropout=dropout, batch_first=True)\n",
    "        \n",
    "        # Linear layer\n",
    "        self.fc = nn.Linear(hidden_dim, output_dim)\n",
    "    \n",
    "    def forward(self, x, lengths, hidden=None):\n",
    "        # x: (batch_size, sequence_length)\n",
    "        embedded = self.embedding(x)  # (batch_size, sequence_length, embedding_dim)\n",
    "        \n",
    "        # Pack the embedded sequences\n",
    "        packed_embedded = pack_padded_sequence(embedded, lengths, batch_first=True, enforce_sorted=False)\n",
    "        \n",
    "        # GRU output\n",
    "        packed_output, hidden = self.lstm(packed_embedded, hidden)\n",
    "        \n",
    "        # Unpack the output\n",
    "        output, output_lengths = pad_packed_sequence(packed_output, batch_first=True, total_length=x.size(1)) \n",
    "        \n",
    "        # Linear layer\n",
    "        output = self.fc(output)  # (batch_size, sequence_length, output_dim)\n",
    "        \n",
    "        return output, hidden\n",
    "\n",
    "# Initialize the model\n",
    "model = ChordLSTM(vocab_size, embedding_dim, hidden_dim, output_dim, n_layers, dropout=0.2)\n",
    "model"
   ]
  },
  {
   "cell_type": "markdown",
   "id": "5cd7bedb-8dc6-4a24-8994-b8e9667858f1",
   "metadata": {},
   "source": [
    "### 3.2 Train model\n",
    "Now, we'll train our LSTM model. For training, we'll use:\n",
    "- Loss Function: CrossEntropyLoss, as this is a classification problem where we predict the next chord in the sequence.\n",
    "- Optimizer: Adam optimizer, which adapts the learning rate during training and is effective for deep learning models."
   ]
  },
  {
   "cell_type": "code",
   "execution_count": 10,
   "id": "9c2e1fe0-b369-4f39-b860-a0d4791568be",
   "metadata": {},
   "outputs": [
    {
     "name": "stdout",
     "output_type": "stream",
     "text": [
      "Epoch 1/100: Train Loss: 3.1412 | Validation Loss: 3.0108\n",
      "Epoch 3/100: Train Loss: 2.7229 | Validation Loss: 2.6055\n",
      "Epoch 5/100: Train Loss: 2.3113 | Validation Loss: 2.2039\n",
      "Epoch 7/100: Train Loss: 1.9517 | Validation Loss: 1.8619\n",
      "Epoch 9/100: Train Loss: 1.6586 | Validation Loss: 1.5870\n",
      "Epoch 11/100: Train Loss: 1.4255 | Validation Loss: 1.3572\n",
      "Epoch 13/100: Train Loss: 1.2239 | Validation Loss: 1.1737\n",
      "Epoch 15/100: Train Loss: 1.0785 | Validation Loss: 1.0381\n",
      "Epoch 17/100: Train Loss: 0.9671 | Validation Loss: 0.9364\n",
      "Epoch 19/100: Train Loss: 0.8847 | Validation Loss: 0.8611\n",
      "Epoch 21/100: Train Loss: 0.8233 | Validation Loss: 0.8062\n",
      "Epoch 23/100: Train Loss: 0.7763 | Validation Loss: 0.7641\n",
      "Epoch 25/100: Train Loss: 0.7401 | Validation Loss: 0.7301\n",
      "Epoch 27/100: Train Loss: 0.7101 | Validation Loss: 0.7020\n",
      "Epoch 29/100: Train Loss: 0.6870 | Validation Loss: 0.6817\n",
      "Epoch 31/100: Train Loss: 0.6666 | Validation Loss: 0.6643\n",
      "Epoch 33/100: Train Loss: 0.6506 | Validation Loss: 0.6487\n",
      "Epoch 35/100: Train Loss: 0.6363 | Validation Loss: 0.6361\n",
      "Epoch 37/100: Train Loss: 0.6250 | Validation Loss: 0.6258\n",
      "Epoch 39/100: Train Loss: 0.6143 | Validation Loss: 0.6173\n",
      "Epoch 41/100: Train Loss: 0.6058 | Validation Loss: 0.6093\n",
      "Epoch 43/100: Train Loss: 0.5969 | Validation Loss: 0.6014\n",
      "Epoch 45/100: Train Loss: 0.5896 | Validation Loss: 0.5954\n",
      "Epoch 47/100: Train Loss: 0.5826 | Validation Loss: 0.5929\n",
      "Epoch 49/100: Train Loss: 0.5783 | Validation Loss: 0.5862\n",
      "Epoch 51/100: Train Loss: 0.5724 | Validation Loss: 0.5830\n",
      "Epoch 53/100: Train Loss: 0.5665 | Validation Loss: 0.5793\n",
      "Epoch 55/100: Train Loss: 0.5619 | Validation Loss: 0.5776\n",
      "Epoch 57/100: Train Loss: 0.5587 | Validation Loss: 0.5733\n",
      "Epoch 59/100: Train Loss: 0.5552 | Validation Loss: 0.5705\n",
      "Epoch 61/100: Train Loss: 0.5509 | Validation Loss: 0.5680\n",
      "Epoch 63/100: Train Loss: 0.5484 | Validation Loss: 0.5681\n",
      "Epoch 65/100: Train Loss: 0.5481 | Validation Loss: 0.5667\n",
      "Epoch 67/100: Train Loss: 0.5422 | Validation Loss: 0.5627\n",
      "Epoch 69/100: Train Loss: 0.5401 | Validation Loss: 0.5628\n",
      "Epoch 71/100: Train Loss: 0.5385 | Validation Loss: 0.5603\n",
      "Epoch 73/100: Train Loss: 0.5350 | Validation Loss: 0.5593\n",
      "Epoch 75/100: Train Loss: 0.5311 | Validation Loss: 0.5573\n",
      "Epoch 77/100: Train Loss: 0.5304 | Validation Loss: 0.5560\n",
      "Epoch 79/100: Train Loss: 0.5289 | Validation Loss: 0.5561\n",
      "Epoch 81/100: Train Loss: 0.5270 | Validation Loss: 0.5565\n",
      "Epoch 83/100: Train Loss: 0.5273 | Validation Loss: 0.5530\n",
      "Epoch 85/100: Train Loss: 0.5239 | Validation Loss: 0.5524\n",
      "Epoch 87/100: Train Loss: 0.5227 | Validation Loss: 0.5529\n",
      "Epoch 89/100: Train Loss: 0.5187 | Validation Loss: 0.5522\n",
      "Epoch 91/100: Train Loss: 0.5170 | Validation Loss: 0.5511\n",
      "Epoch 93/100: Train Loss: 0.5153 | Validation Loss: 0.5499\n",
      "Epoch 95/100: Train Loss: 0.5142 | Validation Loss: 0.5488\n",
      "Epoch 97/100: Train Loss: 0.5129 | Validation Loss: 0.5495\n",
      "Epoch 99/100: Train Loss: 0.5155 | Validation Loss: 0.5485\n"
     ]
    }
   ],
   "source": [
    "# Move model to GPU if available\n",
    "device = torch.device('cuda' if torch.cuda.is_available() else 'cpu')\n",
    "model = model.to(device)\n",
    "\n",
    "criterion = nn.CrossEntropyLoss()\n",
    "optimizer = torch.optim.Adam(model.parameters(), lr=0.01)\n",
    "\n",
    "# train\n",
    "train_losses_lstm, val_losses_lstm = train_model(model, train_loader, val_loader, num_epochs, optimizer, criterion) "
   ]
  },
  {
   "cell_type": "markdown",
   "id": "a9048aaf-cbbf-4c06-bc24-862016cea5f8",
   "metadata": {},
   "source": [
    "### 3.3 Evaluate\n",
    "Evaluate on the whole evaluation set."
   ]
  },
  {
   "cell_type": "code",
   "execution_count": 11,
   "id": "bb86138a-34e7-4334-b5bf-71885d64212f",
   "metadata": {},
   "outputs": [
    {
     "name": "stdout",
     "output_type": "stream",
     "text": [
      "Evaluation Loss (LSTM) on whole validation set:  0.5478938519954681\n"
     ]
    }
   ],
   "source": [
    "val_loss = evaluate(model, val_loader, criterion, device)\n",
    "print(\"Evaluation Loss (LSTM) on whole validation set: \", val_loss)"
   ]
  },
  {
   "cell_type": "markdown",
   "id": "7a22cc72-7970-48a1-8f7f-1162bcb26601",
   "metadata": {},
   "source": [
    "### 3.4 Generate new Sequnces\n",
    "Same as in 2.5. We generate new Sequcnes now."
   ]
  },
  {
   "cell_type": "code",
   "execution_count": 12,
   "id": "704251df-605d-4d13-a6c5-74decf50cdab",
   "metadata": {},
   "outputs": [
    {
     "name": "stdout",
     "output_type": "stream",
     "text": [
      "['D:maj', 'D:maj', 'G:maj', 'G:maj', 'G:maj', 'G-:maj', 'G-:maj', 'C:maj', 'F:maj', 'G:maj', 'A:maj', 'D:maj', 'G:maj', 'G:maj', 'G:maj', 'A:maj', 'D:maj', 'D:maj', 'D:maj', 'G:maj', 'E:min', 'A-:min', 'D-:maj', 'G-:min', 'G:maj', 'G-:min', 'C:maj', 'G-:min', 'G-:maj', 'E:min', 'A:maj', 'D:maj', 'G-:min', 'F:min', 'C:maj', 'E-:maj', 'C:maj', 'G:maj', 'C:maj', 'F:maj', 'B-:maj', 'E-:maj', 'D:maj', 'G:maj', 'G:maj', 'B:maj', 'E:maj', 'A:maj', 'A:maj', 'D:maj', 'G:maj', 'G:maj', 'C:maj', 'A-:maj', 'B:maj', 'E:min', 'B-:maj', 'A:min', 'D:maj', 'D-:maj', 'G:maj', 'D-:maj', 'G:maj', 'C:maj', 'E:min', 'A:maj', 'D:min', 'E-:maj', 'G:maj', 'G:maj', 'E:min', 'E:maj', 'A:maj', 'D:maj', 'G:maj', 'E-:maj', 'D:min', 'G:maj', 'C:maj', 'G:maj', 'C:maj', 'D:maj', 'A-:maj', 'F:maj', 'D:min', 'G:maj', 'C:maj', 'D:maj', 'D:maj', 'G:maj']\n"
     ]
    },
    {
     "name": "stderr",
     "output_type": "stream",
     "text": [
      "100%|███████████████████████████████████████| 1000/1000 [00:51<00:00, 19.29it/s]\n"
     ]
    }
   ],
   "source": [
    "# Generate a new musical chord sequence using the trained model\n",
    "generated_seq = map_sequence(generate_sequence(model, 1, 1000, device, argmax=False))\n",
    "print(generated_seq)\n",
    "\n",
    "# now lets generate 1000 LSTM Chord sequnces\n",
    "LSTM_chords_generated = []\n",
    "for _ in tqdm(range(1000)):\n",
    "    LSTM_chords_generated.append(map_sequence(generate_sequence(model, 1, 1000, device, argmax=False)))"
   ]
  },
  {
   "cell_type": "markdown",
   "id": "372671b9-2a05-456a-8b7a-d23ed8b39366",
   "metadata": {},
   "source": [
    "## 4. Results\n",
    "\n",
    "### 4.1 Compare losses \n",
    "Lets compare the losses of each network over the epochs. We wil also consider the validation losses."
   ]
  },
  {
   "cell_type": "code",
   "execution_count": 13,
   "id": "edf0aa8e-7396-40bc-b73a-0e4cb0234a56",
   "metadata": {},
   "outputs": [
    {
     "data": {
      "image/png": "[encoded data removed]",
      "text/plain": [
       "<Figure size 1200x600 with 1 Axes>"
      ]
     },
     "metadata": {},
     "output_type": "display_data"
    }
   ],
   "source": [
    "import matplotlib.pyplot as plt\n",
    "\n",
    "plt.figure(figsize=(12, 6))\n",
    "plt.plot(train_losses_lstm, label='LSTM Training Loss', color='blue')\n",
    "plt.plot(val_losses_lstm, label='LSTM Validation Loss', color='red')\n",
    "plt.plot(train_losses_gru, '--', label='GRU Training Loss', color='green')\n",
    "plt.plot(val_losses_gru, '--', label='GRU Validation Loss', color='orange')\n",
    "plt.title('Training and Validation Losses for LSTM vs. GRU')\n",
    "plt.xlabel('Epochs')\n",
    "plt.ylabel('Loss')\n",
    "plt.legend()\n",
    "plt.grid(True)\n",
    "\n",
    "plt.savefig('img/train_results_compare-50epochs.png', dpi=300, bbox_inches='tight')\n",
    "plt.show()"
   ]
  },
  {
   "cell_type": "markdown",
   "id": "3c884e02-a9e7-4f6d-82e4-a922969598f8",
   "metadata": {},
   "source": [
    "### 4.2 Chord Distribution analysis\n",
    "Lets dive into our generated sequnces and look at some important things of our data.\n",
    "\n",
    "#### 4.2.1 Chord Distribution similartity \n",
    "This function will give a similarity score (**Jensen-Shannon**) between the generated chord distribution and the reference chord distribution. A score of 1 means they are identical, and a score of 0 means they are completely different."
   ]
  },
  {
   "cell_type": "code",
   "execution_count": 14,
   "id": "eba1d61e-6222-44f2-838b-4e0ff025cc0e",
   "metadata": {},
   "outputs": [
    {
     "name": "stdout",
     "output_type": "stream",
     "text": [
      "Test similartity function:  0.690803316726986\n",
      "GRU Similartity to dataset:  0.8786975884873459\n",
      "LSTM Similartity to dataset:  0.8795344868289562\n"
     ]
    }
   ],
   "source": [
    "def chord_distribution_similarity(generated_chords, reference_chords, chord_mapping):\n",
    "    \"\"\"\n",
    "    Compares the distribution of generated chords with a reference distribution using Jensen-Shannon distance.\n",
    "    \n",
    "    Parameters:\n",
    "    - generated_chords: List of chord progressions from the model.\n",
    "    - reference_chords: List of reference chord progressions.\n",
    "    - chord_mapping: Dictionary mapping chord names to indices.\n",
    "    \n",
    "    Returns:\n",
    "    - similarity_score: A value between 0 and 1 indicating the similarity \n",
    "                        between the distributions (1 means they are identical).\n",
    "    \"\"\"\n",
    "    \n",
    "    # Flatten the chord progressions into a single list\n",
    "    generated_flat = [chord for progression in generated_chords for chord in progression]\n",
    "    reference_flat = [chord for progression in reference_chords for chord in progression]\n",
    "    \n",
    "    # Get frequency distributions\n",
    "    generated_freq = Counter(generated_flat)\n",
    "    reference_freq = Counter(reference_flat)\n",
    "    \n",
    "    # Convert chord frequencies to probability vectors\n",
    "    num_chords = len(chord_mapping)\n",
    "    generated_probs = [generated_freq.get(chord, 0) / len(generated_flat) for chord in chord_mapping.keys()]\n",
    "    reference_probs = [reference_freq.get(chord, 0) / len(reference_flat) for chord in chord_mapping.keys()]\n",
    "    \n",
    "    # Calculate Jensen-Shannon distance using scipy\n",
    "    js_distance = jensenshannon(generated_probs, reference_probs)\n",
    "    \n",
    "    # Convert the distance to a similarity score\n",
    "    similarity_score = 1 - js_distance\n",
    "    \n",
    "    return similarity_score\n",
    "\n",
    "    \n",
    "# for testing\n",
    "print(\"Test similartity function: \", chord_distribution_similarity([[\"A:min\", \"A:min\"], [\"A:min\", \"A:min\"]], [[\"A:min\", \"A:min\"], [\"A:min\", \"B:min\"]], chord_to_idx))\n",
    "print(\"GRU Similartity to dataset: \", chord_distribution_similarity(GRU_chords_generated, all_chords, chord_to_idx))\n",
    "print(\"LSTM Similartity to dataset: \", chord_distribution_similarity(LSTM_chords_generated, all_chords, chord_to_idx))"
   ]
  },
  {
   "cell_type": "markdown",
   "id": "7dd458d9-f39c-4acd-b1fd-eb332adc9250",
   "metadata": {},
   "source": [
    "#### 4.2.2 Padding token content\n",
    "The padding tokens are sometimes prediced (especially for the LSTM). lets see how many times we predict it."
   ]
  },
  {
   "cell_type": "code",
   "execution_count": 15,
   "id": "aeaba520-6078-471c-83d7-e8d9e7a8ee8f",
   "metadata": {},
   "outputs": [
    {
     "name": "stdout",
     "output_type": "stream",
     "text": [
      "Padding predicted by GRU:  0.0002478212382801206\n",
      "Padding predicted by LSTM:  5.946599536165236e-05\n"
     ]
    }
   ],
   "source": [
    "def percentage_of_pads(data):\n",
    "    \"\"\"\n",
    "    Calculates the percentage of \"pad\" tokens in the data.\n",
    "\n",
    "    Parameters:\n",
    "    - data: 2D list containing sequences of strings.\n",
    "\n",
    "    Returns:\n",
    "    - Percentage of \"pad\" tokens in the data.\n",
    "    \"\"\"\n",
    "    \n",
    "    total_elements = sum(len(sequence) for sequence in data)\n",
    "    pad_count = sum(sequence.count(\"pad\") for sequence in data)\n",
    "    \n",
    "    return (pad_count / total_elements) \n",
    "\n",
    "\n",
    "gru_pad_percentage = percentage_of_pads(GRU_chords_generated)\n",
    "lstm_pad_percentage = percentage_of_pads(LSTM_chords_generated)\n",
    "\n",
    "print(\"Padding predicted by GRU: \" , gru_pad_percentage)\n",
    "print(\"Padding predicted by LSTM: \" , lstm_pad_percentage)"
   ]
  },
  {
   "cell_type": "markdown",
   "id": "9fa223a5-a20b-49fe-89eb-4734b2b0d5d8",
   "metadata": {},
   "source": [
    "#### 4.2.3 Maj/Min Percentages \n",
    "Lets compare the percentage of maj/min chords in our generated dataset with the original ones and new ones. "
   ]
  },
  {
   "cell_type": "code",
   "execution_count": 16,
   "id": "9cd9be26-25ed-4fbd-9505-9cb3331ca14f",
   "metadata": {},
   "outputs": [
    {
     "name": "stdout",
     "output_type": "stream",
     "text": [
      "GRU minor chord percentage:  31.750950256156006 | GRU major chord percentage:  68.249049743844\n",
      "LSTM minor chord percentage:  30.00297353553375 | LSTM major chord percentage:  69.99702646446624\n",
      "original minor chord percentage:  31.10197256159989 | Original major chord percentage:  68.8980274384001\n"
     ]
    }
   ],
   "source": [
    "def percentage_of_min_maj(data):\n",
    "    \"\"\"\n",
    "    Calculates the percentage of \":min\" and \":maj\" tokens in the data.\n",
    "\n",
    "    Parameters:\n",
    "    - data: 2D list containing sequences of strings.\n",
    "\n",
    "    Returns:\n",
    "    - Tuple containing (Percentage of \":min\" tokens, Percentage of \":maj\" tokens) in the data.\n",
    "    \"\"\"\n",
    "    # exclude pad, bos and eos tokens\n",
    "    total_elements = sum(1 for sequence in data for chord in sequence if chord not in [\"pad\", \"<BOS>\", \"<EOS>\"])\n",
    "\n",
    "    min_count = sum(chord.endswith(\":min\") for sequence in data for chord in sequence)\n",
    "    maj_count = sum(chord.endswith(\":maj\") for sequence in data for chord in sequence)\n",
    "    \n",
    "    return (min_count / total_elements) * 100, (maj_count / total_elements) * 100\n",
    "\n",
    "gru_min_percentage, gru_maj_percentage = percentage_of_min_maj(GRU_chords_generated)\n",
    "lstm_min_percentage, lstm_maj_percentage = percentage_of_min_maj(LSTM_chords_generated)\n",
    "ori_min_percentage, ori_maj_percentage = percentage_of_min_maj(all_chords)\n",
    "\n",
    "\n",
    "print(\"GRU minor chord percentage: \",gru_min_percentage,  \"| GRU major chord percentage: \", gru_maj_percentage)\n",
    "print(\"LSTM minor chord percentage: \",lstm_min_percentage,  \"| LSTM major chord percentage: \", lstm_maj_percentage)\n",
    "print(\"original minor chord percentage: \",ori_min_percentage,  \"| Original major chord percentage: \", ori_maj_percentage)"
   ]
  },
  {
   "cell_type": "markdown",
   "id": "a804596c-e033-4872-9ee7-dbff0d790b31",
   "metadata": {},
   "source": [
    "### 4.3 Exporting Sequences as MIDI\n",
    "\n",
    "In this section, we'll utilize the Python library `pretty_midi` to export our chord sequences into MIDI files. These files can be played using the Windows media player or imported into any Digital Audio Workstation (DAW) for playback and further processing.\n",
    "\n",
    "#### 4.3.1 Output Chords only\n",
    "Here, we will output the chord progression with the instrument piano."
   ]
  },
  {
   "cell_type": "code",
   "execution_count": 17,
   "id": "6ec33856-0d95-42bb-80dd-8087b04d7515",
   "metadata": {},
   "outputs": [],
   "source": [
    "def chord_to_notes(chord_name):\n",
    "    \"\"\"Converts a chord to a list of the notes (integers) for defining ther chord as midi. Values see below. Only works for the smaller vocab size.\"\"\"\n",
    "    note_name_to_num = {\n",
    "        'C': 60, 'C#': 61, 'D': 62, 'D#': 63, 'E': 64, 'F': 65, \n",
    "        'F#': 66, 'G': 67, 'G#': 68, 'A': 69, 'A#': 70, 'B': 71,\n",
    "        'E-': 63, 'A-': 68, 'B-': 70, 'D-': 61, 'G-': 66  # Adding the flat notes\n",
    "    }\n",
    "    \n",
    "    # Extract the root note and the type (major/minor) from the chord name\n",
    "    root = chord_name.split(':')[0]\n",
    "    chord_type = chord_name.split(':')[-1]\n",
    "    \n",
    "    # Calculate the MIDI numbers for the root, third, and fifth notes\n",
    "    root_num = note_name_to_num[root]\n",
    "    third_num = root_num + 4 if chord_type == 'maj' else root_num + 3\n",
    "    fifth_num = root_num + 7\n",
    "    \n",
    "    return [root_num, third_num, fifth_num]\n",
    "\n",
    "def progression_to_midi(chord_progression, filename='output.mid'):\n",
    "    \"\"\"Creates a midi file and saves it.\"\"\"\n",
    "    # Create a new PrettyMIDI object\n",
    "    midi_data = pretty_midi.PrettyMIDI(initial_tempo=80)\n",
    "    \n",
    "    # Create an instrument instance for a piano (instrument number 0)\n",
    "    piano_program = pretty_midi.instrument_name_to_program('Acoustic Grand Piano')\n",
    "    piano = pretty_midi.Instrument(program=piano_program)\n",
    "    \n",
    "    # Iterate over the chord progression and add each chord to the MIDI file\n",
    "    for i, chord in enumerate(chord_progression):\n",
    "        if chord not in ['<BOS>', '<EOS>', 'pad']:  # Ignore these tokens\n",
    "            start_time = i  # Start time of the chord (each chord lasts for 1 time unit)\n",
    "            end_time = i + 1  # End time of the chord\n",
    "            notes = chord_to_notes(chord)  # Get the MIDI notes for the chord\n",
    "            for note_num in notes:\n",
    "                # Create a new Note instance for each note in the chord\n",
    "                note = pretty_midi.Note(velocity=100, pitch=note_num, start=start_time, end=end_time)\n",
    "                piano.notes.append(note)\n",
    "    \n",
    "    # Add the piano instrument to the PrettyMIDI object\n",
    "    midi_data.instruments.append(piano)\n",
    "    \n",
    "    # Write out the MIDI data to a file\n",
    "    midi_data.write(filename)\n",
    "\n",
    "\n",
    "# Test the function\n",
    "chord_progression = ['C:min', 'C:maj', 'A-:maj']\n",
    "progression_to_midi(chord_progression, \"midi/test.mid\")"
   ]
  },
  {
   "cell_type": "code",
   "execution_count": 18,
   "id": "ac13616c-525d-43ce-bde8-2dce04a69ef5",
   "metadata": {},
   "outputs": [],
   "source": [
    "def save_random_progression_to_midi(chord_progressions, filename_prefix=\"midi/piano/\", model=\"gru\"):\n",
    "    # Pick a random progression from the list\n",
    "    random_progression = random.choice(chord_progressions)\n",
    "    \n",
    "    # Get the ID (index) of the progression\n",
    "    progression_id = chord_progressions.index(random_progression)\n",
    "    \n",
    "    # Create filename\n",
    "    filename = filename_prefix + model + \"-\" + str(progression_id) + \".mid\"\n",
    "    \n",
    "    # Save the progression to MIDI\n",
    "    progression_to_midi(random_progression, filename)\n",
    "    \n",
    "    return filename"
   ]
  },
  {
   "cell_type": "code",
   "execution_count": 19,
   "id": "5935bbbc-7870-4300-9676-20fbeb20fe6a",
   "metadata": {},
   "outputs": [
    {
     "data": {
      "text/plain": [
       "'midi/piano/lstm-525.mid'"
      ]
     },
     "execution_count": 19,
     "metadata": {},
     "output_type": "execute_result"
    }
   ],
   "source": [
    "save_random_progression_to_midi(GRU_chords_generated, model=\"gru\")\n",
    "save_random_progression_to_midi(LSTM_chords_generated, model=\"lstm\")"
   ]
  },
  {
   "cell_type": "markdown",
   "id": "f8b9e67c-5c7d-46a3-bdce-9f3b6a8d7d72",
   "metadata": {},
   "source": [
    "#### 4.3.2 Supercharging our output!\n",
    "\n",
    "Now lets do something cool (even if its not helpfull). We will transform the chords into a entire arrangement:\n",
    "\n",
    "1. **Bass Note:**\n",
    "        Instrument: Electric Bass (pick).\n",
    "        Play Style: Play the root note of the chord for the entire duration of the chord.\n",
    "\n",
    "2. **Piano Arpeggio:**\n",
    "        Instrument: Acoustic Grand Piano.\n",
    "        Play Style: Play the chord notes sequentially with a rapid arpeggio.\n",
    "\n",
    "3. **Synth Chord:**\n",
    "        Instrument: Synth Strings.\n",
    "        Play Style: Play the entire chord for the duration of the chord.\n",
    "\n",
    "4. **Drums:**\n",
    "        Instruments: Acoustic Bass Drum (for the beat) and Closed Hi Hat (for the off beats).\n",
    "        Play Style: Basic 4 on the floor pattern."
   ]
  },
  {
   "cell_type": "code",
   "execution_count": 20,
   "id": "4b698867-1cf6-42c7-9e41-8eea1387de48",
   "metadata": {},
   "outputs": [],
   "source": [
    "def enhanced_progression_to_midi(chord_progression, filename='output.mid'):\n",
    "    # Create a new PrettyMIDI object\n",
    "    midi_data = pretty_midi.PrettyMIDI(initial_tempo=20)\n",
    "\n",
    "    # Instruments\n",
    "    piano_program = pretty_midi.instrument_name_to_program('Acoustic Grand Piano')\n",
    "    bass_program = pretty_midi.instrument_name_to_program('Electric Bass (pick)')\n",
    "    synth_program = pretty_midi.instrument_name_to_program('Synth Strings 1')\n",
    "    \n",
    "    piano = pretty_midi.Instrument(program=piano_program)\n",
    "    bass = pretty_midi.Instrument(program=bass_program)\n",
    "    synth = pretty_midi.Instrument(program=synth_program)\n",
    "    drums = pretty_midi.Instrument(program=0, is_drum=True)\n",
    "    \n",
    "    # Drum patterns\n",
    "    KICK_DRUM = 36  # MIDI number for Acoustic Bass Drum\n",
    "    CLOSED_HI_HAT = 42  # MIDI number for Closed Hi Hat\n",
    "    \n",
    "    # Iterate over the chord progression\n",
    "    for i, chord in enumerate(chord_progression):\n",
    "        if chord not in ['<BOS>', '<EOS>', 'pad']:  # Ignore these tokens\n",
    "            start_time = i  # Start time of the chord (each chord lasts for 1 time unit)\n",
    "            end_time = i + 1  # End time of the chord\n",
    "            \n",
    "            # Chord notes\n",
    "            notes = chord_to_notes(chord)\n",
    "            \n",
    "            # Bass note (root of the chord)\n",
    "            bass_note = pretty_midi.Note(velocity=110, pitch=notes[0]-12, start=start_time, end=end_time)  # -12 to move it an octave lower\n",
    "            bass.notes.append(bass_note)\n",
    "            \n",
    "            # Synth Chord\n",
    "            for note_num in notes:\n",
    "                synth_note = pretty_midi.Note(velocity=60, pitch=note_num, start=start_time, end=end_time)\n",
    "                synth.notes.append(synth_note)\n",
    "            \n",
    "            # Piano Arpeggio\n",
    "            arpeggio_duration = 0.25  # 1/4 of the chord duration\n",
    "            for j, note_num in enumerate(notes):\n",
    "                arpeggio_note = pretty_midi.Note(velocity=127, pitch=note_num, start=start_time + j*arpeggio_duration, end=start_time + (j+1)*arpeggio_duration)\n",
    "                piano.notes.append(arpeggio_note)\n",
    "            \n",
    "            # Drums: 4 on the floor pattern\n",
    "            drum_kick = pretty_midi.Note(velocity=120, pitch=KICK_DRUM, start=start_time, end=start_time+0.1)\n",
    "            drum_hat = pretty_midi.Note(velocity=100, pitch=CLOSED_HI_HAT, start=start_time+0.5, end=start_time+0.55)\n",
    "            drums.notes.append(drum_kick)\n",
    "            drums.notes.append(drum_hat)\n",
    "    \n",
    "    # Add the instruments to the PrettyMIDI object\n",
    "    midi_data.instruments.extend([piano, bass, synth, drums])\n",
    "    \n",
    "    # Write out the MIDI data to a file\n",
    "    midi_data.write(filename)\n",
    "\n",
    "# For testing purposes\n",
    "chord_progression = ['C:min', 'C:maj', 'A-:maj', 'D:maj', 'G:min', 'E:maj']\n",
    "enhanced_progression_to_midi(chord_progression, \"midi/test_enhanced.mid\")"
   ]
  },
  {
   "cell_type": "markdown",
   "id": "bdca1587-15e8-4359-82e7-79b296d66c7c",
   "metadata": {},
   "source": [
    "#### 4.3.2 JazzArrangement\n",
    "Now the same, but a Jazz since we have a Jazz dataset (*・‿・)ノ⌒*:･ﾟ✧ \n",
    "\n",
    "**Jazz Instruments:**\n",
    "\n",
    "- For the bass, we use the Acoustic Bass instrument.\n",
    "- For the chord instrument, we use the `Electric Piano 1` instrument to give it a Rhodes-like sound.\n",
    "- Keep the piano for the arpeggio but will adjust the velocity to give it a softer touch.\n",
    "\n",
    "**Jazz Drum Pattern:**\n",
    "\n",
    "- Make the drum pattern swing a bit to give it a jazz feel.\n",
    "- Use the Ride Cymbal 1 for the on-beats and the Side Stick for the off-beats to create a simple jazz rhythm."
   ]
  },
  {
   "cell_type": "code",
   "execution_count": 21,
   "id": "badc1b18-a906-40c2-b6e3-a61dcef3c661",
   "metadata": {},
   "outputs": [],
   "source": [
    "def enhanced_progression_to_midi_jazz(chord_progression, filename='output.mid', bpm=120):\n",
    "    midi_data = pretty_midi.PrettyMIDI(initial_tempo=bpm)\n",
    "\n",
    "    # Jazz Instruments\n",
    "    piano_program = pretty_midi.instrument_name_to_program('Acoustic Grand Piano')\n",
    "    bass_program = pretty_midi.instrument_name_to_program('Acoustic Bass')\n",
    "    chord_program = pretty_midi.instrument_name_to_program('Electric Piano 1')\n",
    "    \n",
    "    piano = pretty_midi.Instrument(program=piano_program)\n",
    "    bass = pretty_midi.Instrument(program=bass_program)\n",
    "    chords = pretty_midi.Instrument(program=chord_program)\n",
    "    drums = pretty_midi.Instrument(program=0, is_drum=True)\n",
    "    \n",
    "    # Jazz Drum patterns\n",
    "    RIDE_CYMBAL = 51  # MIDI number for Ride Cymbal 1\n",
    "    SIDE_STICK = 37   # MIDI number for Side Stick\n",
    "    \n",
    "    # Iterate over the chord progression\n",
    "    for i, chord in enumerate(chord_progression):\n",
    "        if chord not in ['<BOS>', '<EOS>', 'pad']:  # Ignore these tokens\n",
    "            start_time = i  # Start time of the chord (each chord lasts for 1 time unit)\n",
    "            end_time = i + 1  # End time of the chord\n",
    "            \n",
    "            # Chord notes\n",
    "            notes = chord_to_notes(chord)\n",
    "            \n",
    "            # Bass note (root of the chord)\n",
    "            bass_note = pretty_midi.Note(velocity=127, pitch=notes[0]-12, start=start_time, end=end_time)  # -12 to move it an octave lower\n",
    "            bass.notes.append(bass_note)\n",
    "            \n",
    "            # Chord\n",
    "            for note_num in notes:\n",
    "                chord_note = pretty_midi.Note(velocity=70, pitch=note_num, start=start_time, end=end_time)\n",
    "                chords.notes.append(chord_note)\n",
    "            \n",
    "            # Piano Arpeggio\n",
    "            arpeggio_duration = 0.25  # 1/4 of the chord duration\n",
    "            for j, note_num in enumerate(notes):\n",
    "                arpeggio_note = pretty_midi.Note(velocity=60, pitch=note_num, start=start_time + j*arpeggio_duration, end=start_time + (j+1)*arpeggio_duration)\n",
    "                piano.notes.append(arpeggio_note)\n",
    "            \n",
    "            # Jazz Drums pattern\n",
    "            drum_ride = pretty_midi.Note(velocity=80, pitch=RIDE_CYMBAL, start=start_time, end=start_time+0.1)\n",
    "            drum_side_stick = pretty_midi.Note(velocity=70, pitch=SIDE_STICK, start=start_time+0.5, end=start_time+0.55)\n",
    "            drums.notes.append(drum_ride)\n",
    "            drums.notes.append(drum_side_stick)\n",
    "    \n",
    "    # Add the instruments to the PrettyMIDI object\n",
    "    midi_data.instruments.extend([piano, bass, chords, drums])\n",
    "    \n",
    "    # Write out the MIDI data to a file\n",
    "    midi_data.write(filename)\n",
    "\n",
    "# For testing purposes\n",
    "chord_progression = ['C:min', 'C:maj', 'A-:maj', 'D:maj', 'G:min', 'E:maj']\n",
    "enhanced_progression_to_midi_jazz(chord_progression, \"midi/test_enhancedJAZZ.mid\", 80)"
   ]
  },
  {
   "cell_type": "code",
   "execution_count": 22,
   "id": "899f8d3f-0df8-4f89-96a2-843665cb6060",
   "metadata": {},
   "outputs": [],
   "source": [
    "def save_random_progression_to_midi_jazz(chord_progressions, filename_prefix=\"midi/jazz_arrangement/\", model=\"gru\"):\n",
    "    # Pick a random progression from the list\n",
    "    random_progression = random.choice(chord_progressions)\n",
    "    \n",
    "    # Get the ID (index) of the progression\n",
    "    progression_id = chord_progressions.index(random_progression)\n",
    "    \n",
    "    # Create filename\n",
    "    filename = filename_prefix + model + \"-\" + str(progression_id) + \"-JAZZ\" + \".mid\"\n",
    "    \n",
    "    # Save the progression to MIDI\n",
    "    enhanced_progression_to_midi_jazz(random_progression, filename)\n",
    "    \n",
    "    return filename"
   ]
  },
  {
   "cell_type": "code",
   "execution_count": 23,
   "id": "7cb7e1de-7cba-4362-b045-590854c763c9",
   "metadata": {},
   "outputs": [
    {
     "data": {
      "text/plain": [
       "'midi/jazz_arrangement/lstm-346-JAZZ.mid'"
      ]
     },
     "execution_count": 23,
     "metadata": {},
     "output_type": "execute_result"
    }
   ],
   "source": [
    "save_random_progression_to_midi_jazz(GRU_chords_generated, model=\"gru\")\n",
    "save_random_progression_to_midi_jazz(LSTM_chords_generated, model=\"lstm\")"
   ]
  },
  {
   "cell_type": "markdown",
   "id": "c38b53c0-62f3-4302-8d39-d59727134e55",
   "metadata": {},
   "source": [
    "### 4.6 Discussion\n",
    "\n",
    "#### 4.6.1 Metrics\n",
    "\n",
    "We observe that, using the same hyper-parameters, both networks perform similarly in terms of convergence and convergence speed. The outputs from both are also quite alike. When compared to the original data, it's evident that both networks produce outputs that are very close, especially in terms of the Jensen-Shannon Divergence. The contents of Minor and Major are also strikingly similar. With the newly implemented pack_padded_sequence from PyTorch, we've completely eliminated the problem of predicting padding. Our predictions now contain 0% padding tokens. Additionally, when setting the sequence length generation limit exceptionally high, the network consistently stops predicting, as it predicts the EOS token, which is desired. The outputs from both networks now seem very reasonable. Training and computation times don't vary significantly; especially on CUDA, we experience fast training times. It's worth noting that this is partly because we set the n_layers parameter relatively low and opted for modest hidden and embedding dimensions. Through testing, these configurations were found to give the best results. Larger dimensions tend to lead to overfitting, and the network struggles to learn the chord progressions, which are relatively straightforward given our small vocabulary size.\n",
    "#### 4.6.2 Personal\n",
    "\n",
    "Listening to the generated audio files, it's clear that both networks produce harmonious chord progressions. They don't sound arbitrary, and at times, they offer cool progressions that are quite popular and recognizable. Without time information, the output feels a bit monotonous, with each bar representing a single chord. Addressing this will be the next milestone in the BA thesis!\n",
    "\n"
   ]
  }
 ],
 "metadata": {
  "kernelspec": {
   "display_name": "Python 3 (ipykernel)",
   "language": "python",
   "name": "python3"
  },
  "language_info": {
   "codemirror_mode": {
    "name": "ipython",
    "version": 3
   },
   "file_extension": ".py",
   "mimetype": "text/x-python",
   "name": "python",
   "nbconvert_exporter": "python",
   "pygments_lexer": "ipython3",
   "version": "3.10.6"
  }
 },
 "nbformat": 4,
 "nbformat_minor": 5
}
